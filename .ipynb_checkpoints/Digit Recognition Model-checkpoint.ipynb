{
 "cells": [
  {
   "cell_type": "code",
   "execution_count": 14,
   "metadata": {},
   "outputs": [
    {
     "name": "stdout",
     "output_type": "stream",
     "text": [
      "Train on 1400 samples, validate on 600 samples\n",
      "Epoch 1/20\n",
      "1400/1400 [==============================] - 2s 1ms/step - loss: 13.2865 - acc: 0.1679 - val_loss: 13.4762 - val_acc: 0.1617\n",
      "Epoch 2/20\n",
      "1400/1400 [==============================] - 1s 422us/step - loss: 12.6109 - acc: 0.2121 - val_loss: 12.9669 - val_acc: 0.1850\n",
      "Epoch 3/20\n",
      "1400/1400 [==============================] - 1s 414us/step - loss: 12.8480 - acc: 0.1986 - val_loss: 13.2477 - val_acc: 0.1767\n",
      "Epoch 4/20\n",
      "1400/1400 [==============================] - 1s 573us/step - loss: 11.6551 - acc: 0.2721 - val_loss: 11.4264 - val_acc: 0.2867\n",
      "Epoch 5/20\n",
      "1400/1400 [==============================] - 1s 530us/step - loss: 10.7088 - acc: 0.3307 - val_loss: 10.8453 - val_acc: 0.3267\n",
      "Epoch 6/20\n",
      "1400/1400 [==============================] - 1s 813us/step - loss: 10.4771 - acc: 0.3471 - val_loss: 10.8503 - val_acc: 0.3267\n",
      "Epoch 7/20\n",
      "1400/1400 [==============================] - 1s 460us/step - loss: 10.3875 - acc: 0.3543 - val_loss: 10.8335 - val_acc: 0.3233\n",
      "Epoch 8/20\n",
      "1400/1400 [==============================] - 1s 539us/step - loss: 10.4597 - acc: 0.3479 - val_loss: 10.8579 - val_acc: 0.3233\n",
      "Epoch 9/20\n",
      "1400/1400 [==============================] - 1s 698us/step - loss: 10.4022 - acc: 0.3529 - val_loss: 10.8430 - val_acc: 0.3267\n"
     ]
    },
    {
     "data": {
      "text/plain": [
       "<keras.callbacks.History at 0x7feed42d42e8>"
      ]
     },
     "execution_count": 14,
     "metadata": {},
     "output_type": "execute_result"
    }
   ],
   "source": [
    "import pandas as pd\n",
    "from keras.utils import to_categorical\n",
    "from keras.models import Sequential\n",
    "from keras.layers import Dense\n",
    "from keras.callbacks import EarlyStopping\n",
    "df=pd.read_csv('mnist.csv')\n",
    "predictors=df.drop(['5'],axis=1).as_matrix()\n",
    "target=to_categorical(df['5'])\n",
    "model=Sequential()\n",
    "model.add(Dense(50,activation='relu',input_shape=(784,)))\n",
    "model.add(Dense(50,activation='relu'))\n",
    "model.add(Dense(10,activation='softmax'))\n",
    "early_stopping_monitor=EarlyStopping(patience=2)\n",
    "model.compile(optimizer='adam',loss='categorical_crossentropy',metrics=['accuracy'])\n",
    "model.fit(predictors,target,validation_split=0.3,epochs=20,callbacks=[early_stopping_monitor])"
   ]
  },
  {
   "cell_type": "code",
   "execution_count": null,
   "metadata": {},
   "outputs": [],
   "source": []
  }
 ],
 "metadata": {
  "kernelspec": {
   "display_name": "Python 3",
   "language": "python",
   "name": "python3"
  },
  "language_info": {
   "codemirror_mode": {
    "name": "ipython",
    "version": 3
   },
   "file_extension": ".py",
   "mimetype": "text/x-python",
   "name": "python",
   "nbconvert_exporter": "python",
   "pygments_lexer": "ipython3",
   "version": "3.6.4"
  }
 },
 "nbformat": 4,
 "nbformat_minor": 2
}
